{
 "cells": [
  {
   "cell_type": "code",
   "execution_count": 1,
   "metadata": {},
   "outputs": [],
   "source": [
    "import pandas as pd\n",
    "import numpy as np\n",
    "from scipy.sparse import csr_matrix\n",
    "from sklearn.metrics.pairwise import cosine_similarity"
   ]
  },
  {
   "cell_type": "code",
   "execution_count": 2,
   "metadata": {},
   "outputs": [],
   "source": [
    "# Load MovieLens dataset\n",
    "file_path = '../ml-latest-small/movies.csv'\n",
    "df = pd.read_csv(file_path)"
   ]
  },
  {
   "cell_type": "code",
   "execution_count": 3,
   "metadata": {},
   "outputs": [],
   "source": [
    "# Genres are typically in a pipe-separated string (e.g., \"Action|Adventure|Sci-Fi\")\n",
    "# Split the genres into a list\n",
    "df['genres'] = df['genres'].str.split('|')\n",
    "\n",
    "# Create a set of all unique genres\n",
    "unique_genres = sorted(set(genre for genres in df['genres'] for genre in genres))\n",
    "\n",
    "# Create a dictionary to map genres to indices\n",
    "genre_to_index = {genre: i for i, genre in enumerate(unique_genres)}\n",
    "\n",
    "# Function to convert a list of genres to a binary vector\n",
    "def genres_to_vector(genres):\n",
    "    vector = [0] * len(unique_genres)\n",
    "    for genre in genres:\n",
    "        vector[genre_to_index[genre]] = 1\n",
    "    return vector\n",
    "\n",
    "# Create a sparse genre matrix where rows represent movies and columns represent genres\n",
    "genre_matrix = csr_matrix([genres_to_vector(movie_genres) for movie_genres in df['genres']])\n",
    "\n",
    "# Calculate cosine similarity matrix based on genres using NumPy\n",
    "cosine_sim_matrix = cosine_similarity(genre_matrix, genre_matrix)"
   ]
  },
  {
   "cell_type": "code",
   "execution_count": 4,
   "metadata": {},
   "outputs": [],
   "source": [
    "# Function to recommend movies based on a given movie\n",
    "def recommend_movies(movie_id, num_recommendations=5):\n",
    "    # Find the index of the given movie in the dataset\n",
    "    movie_index = df[df['movieId'] == movie_id].index[0]\n",
    "    \n",
    "    # Get the cosine similarity scores for the given movie\n",
    "    similarity_scores = cosine_sim_matrix[movie_index]\n",
    "    \n",
    "    # Get the indices of movies sorted by similarity (excluding the given movie itself)\n",
    "    similar_movies_indices = np.argsort(similarity_scores)[::-1][1:num_recommendations + 1]\n",
    "    \n",
    "    # Get the movieIds of recommended movies\n",
    "    recommended_movie_ids = df.iloc[similar_movies_indices]['movieId'].tolist()\n",
    "    \n",
    "    # Get the corresponding movie titles\n",
    "    recommended_movies = df[df['movieId'].isin(recommended_movie_ids)][['movieId', 'title']]\n",
    "    \n",
    "    return recommended_movies"
   ]
  },
  {
   "cell_type": "code",
   "execution_count": 5,
   "metadata": {},
   "outputs": [
    {
     "name": "stdout",
     "output_type": "stream",
     "text": [
      "      movieId                                           title\n",
      "1815     2294                                     Antz (1998)\n",
      "3003     3754  Adventures of Rocky and Bullwinkle, The (2000)\n",
      "3217     4016                Emperor's New Groove, The (2000)\n",
      "6705    53121                          Shrek the Third (2007)\n",
      "8928   136016                        The Good Dinosaur (2015)\n"
     ]
    }
   ],
   "source": [
    "# Example: Recommend movies similar to a given movie (replace 1 with the desired movieId)\n",
    "recommendations = recommend_movies(1, num_recommendations=5)\n",
    "print(recommendations)"
   ]
  },
  {
   "cell_type": "code",
   "execution_count": null,
   "metadata": {},
   "outputs": [],
   "source": []
  }
 ],
 "metadata": {
  "kernelspec": {
   "display_name": "Python 3",
   "language": "python",
   "name": "python3"
  },
  "language_info": {
   "codemirror_mode": {
    "name": "ipython",
    "version": 3
   },
   "file_extension": ".py",
   "mimetype": "text/x-python",
   "name": "python",
   "nbconvert_exporter": "python",
   "pygments_lexer": "ipython3",
   "version": "3.8.5"
  }
 },
 "nbformat": 4,
 "nbformat_minor": 4
}
